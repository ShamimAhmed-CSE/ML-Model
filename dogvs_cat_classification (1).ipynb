{
  "nbformat": 4,
  "nbformat_minor": 0,
  "metadata": {
    "colab": {
      "provenance": []
    },
    "kernelspec": {
      "name": "python3",
      "display_name": "Python 3"
    },
    "language_info": {
      "name": "python"
    },
    "accelerator": "GPU",
    "gpuClass": "standard"
  },
  "cells": [
    {
      "cell_type": "code",
      "execution_count": 7,
      "metadata": {
        "id": "JegePAdsRuat"
      },
      "outputs": [],
      "source": [
        "!mkdir -p ~/.kaggle\n",
        "!cp kaggle.json ~/.kaggle/"
      ]
    },
    {
      "cell_type": "code",
      "source": [
        "!kaggle datasets download -d salader/dogs-vs-cats"
      ],
      "metadata": {
        "colab": {
          "base_uri": "https://localhost:8080/"
        },
        "id": "UP6xX7p6TI3X",
        "outputId": "0e3b1a6a-fdfb-49a8-b349-8ae93b5fb7e9"
      },
      "execution_count": 9,
      "outputs": [
        {
          "output_type": "stream",
          "name": "stdout",
          "text": [
            "Warning: Your Kaggle API key is readable by other users on this system! To fix this, you can run 'chmod 600 /root/.kaggle/kaggle.json'\n",
            "Downloading dogs-vs-cats.zip to /content\n",
            "100% 1.06G/1.06G [00:28<00:00, 44.5MB/s]\n",
            "100% 1.06G/1.06G [00:29<00:00, 39.4MB/s]\n"
          ]
        }
      ]
    },
    {
      "cell_type": "code",
      "source": [
        "import zipfile\n",
        "zip_ref = zipfile.ZipFile('/content/dogs-vs-cats.zip', 'r')\n",
        "zip_ref.extractall('/content')\n",
        "zip_ref.close()"
      ],
      "metadata": {
        "id": "8anVoRJtUHsA"
      },
      "execution_count": 10,
      "outputs": []
    },
    {
      "cell_type": "code",
      "source": [
        "import tensorflow as tf\n",
        "from tensorflow import keras\n",
        "from keras import Sequential\n",
        "from keras.layers import Dense,Conv2D,MaxPooling2D,Flatten,BatchNormalization,Dropout"
      ],
      "metadata": {
        "id": "uRECDG6WUVBY"
      },
      "execution_count": 19,
      "outputs": []
    },
    {
      "cell_type": "code",
      "source": [
        "# generators\n",
        "train_ds = keras.utils.image_dataset_from_directory(\n",
        "    directory = '/content/train',\n",
        "    labels='inferred',\n",
        "    label_mode = 'int',\n",
        "    batch_size=32,\n",
        "    image_size=(256,256)\n",
        ")\n",
        "\n",
        "validation_ds = keras.utils.image_dataset_from_directory(\n",
        "    directory = '/content/test',\n",
        "    labels='inferred',\n",
        "    label_mode = 'int',\n",
        "    batch_size=32,\n",
        "    image_size=(256,256)\n",
        ")"
      ],
      "metadata": {
        "colab": {
          "base_uri": "https://localhost:8080/"
        },
        "id": "dJdpSrdgU7ul",
        "outputId": "95d5beb4-c814-4103-bad9-3dcf8c0bd6d9"
      },
      "execution_count": 12,
      "outputs": [
        {
          "output_type": "stream",
          "name": "stdout",
          "text": [
            "Found 20000 files belonging to 2 classes.\n",
            "Found 5000 files belonging to 2 classes.\n"
          ]
        }
      ]
    },
    {
      "cell_type": "code",
      "source": [
        "# Normalize\n",
        "def process(image,label):\n",
        "    image = tf.cast(image/255. ,tf.float32)\n",
        "    return image,label\n",
        "\n",
        "train_ds = train_ds.map(process)\n",
        "validation_ds = validation_ds.map(process)"
      ],
      "metadata": {
        "id": "BF21p6-KVEA2"
      },
      "execution_count": 13,
      "outputs": []
    },
    {
      "cell_type": "code",
      "source": [
        "\n",
        "model = Sequential()\n",
        "        \n",
        "model.add(Conv2D(64, kernel_size = (3, 3), padding = \"same\", activation = \"relu\",input_shape=(256,256,3)))\n",
        "model.add(Conv2D(64, kernel_size = (3, 3), padding = \"same\", activation = \"relu\"))\n",
        "model.add(BatchNormalization())\n",
        "model.add(MaxPooling2D(pool_size = (2, 2), strides = (2, 2)))\n",
        "            \n",
        "model.add(Conv2D(128, kernel_size = (3, 3), padding = \"same\", activation = \"relu\"))\n",
        "model.add(Conv2D(128, kernel_size = (3, 3), padding = \"same\", activation = \"relu\"))\n",
        "model.add(BatchNormalization())\n",
        "model.add(MaxPooling2D(pool_size = (2, 2), strides = (2, 2)))\n",
        "            \n",
        "model.add(Conv2D(256, kernel_size = (3, 3), padding = \"same\", activation = \"relu\"))\n",
        "model.add(Conv2D(256, kernel_size = (3, 3), padding = \"same\", activation = \"relu\"))\n",
        "model.add(Conv2D(256, kernel_size = (3, 3), padding = \"same\", activation = \"relu\"))\n",
        "model.add(BatchNormalization())\n",
        "model.add(MaxPooling2D(pool_size = (2, 2), strides = (2, 2)))\n",
        "            \n",
        "model.add(Conv2D(512, kernel_size = (3, 3), padding = \"same\", activation = \"relu\"))\n",
        "model.add(Conv2D(512, kernel_size = (3, 3), padding = \"same\", activation = \"relu\"))\n",
        "model.add(Conv2D(512, kernel_size = (3, 3), padding = \"same\", activation = \"relu\"))\n",
        "model.add(BatchNormalization())\n",
        "model.add(MaxPooling2D(pool_size = (2, 2), strides = (2, 2)))\n",
        "            \n",
        "model.add(Conv2D(512, kernel_size = (3, 3), padding = \"same\", activation = \"relu\"))\n",
        "model.add(Conv2D(512, kernel_size = (3, 3), padding = \"same\", activation = \"relu\"))\n",
        "model.add(Conv2D(512, kernel_size = (3, 3), padding = \"same\", activation = \"relu\"))\n",
        "model.add(BatchNormalization())\n",
        "model.add(MaxPooling2D(pool_size = (2, 2), strides = (2, 2)))\n",
        "            \n",
        "model.add(Flatten())\n",
        "model.add(Dense(units = 128, activation = \"relu\"))\n",
        "model.add(Dropout(0.1))\n",
        "model.add(Dense(units = 64, activation = \"relu\"))\n",
        "model.add(Dropout(0.1))\n",
        "model.add(Dense(1,activation='sigmoid'))"
      ],
      "metadata": {
        "id": "QXBdYC4EVtS_"
      },
      "execution_count": 26,
      "outputs": []
    },
    {
      "cell_type": "code",
      "source": [
        "model.summary()"
      ],
      "metadata": {
        "colab": {
          "base_uri": "https://localhost:8080/"
        },
        "id": "BDI2yI_zZqah",
        "outputId": "3ad8da90-88bb-4a08-c440-78ee89f5c67b"
      },
      "execution_count": 27,
      "outputs": [
        {
          "output_type": "stream",
          "name": "stdout",
          "text": [
            "Model: \"sequential_3\"\n",
            "_________________________________________________________________\n",
            " Layer (type)                Output Shape              Param #   \n",
            "=================================================================\n",
            " conv2d_28 (Conv2D)          (None, 256, 256, 64)      1792      \n",
            "                                                                 \n",
            " conv2d_29 (Conv2D)          (None, 256, 256, 64)      36928     \n",
            "                                                                 \n",
            " batch_normalization_1 (Batc  (None, 256, 256, 64)     256       \n",
            " hNormalization)                                                 \n",
            "                                                                 \n",
            " max_pooling2d_10 (MaxPoolin  (None, 128, 128, 64)     0         \n",
            " g2D)                                                            \n",
            "                                                                 \n",
            " conv2d_30 (Conv2D)          (None, 128, 128, 128)     73856     \n",
            "                                                                 \n",
            " conv2d_31 (Conv2D)          (None, 128, 128, 128)     147584    \n",
            "                                                                 \n",
            " batch_normalization_2 (Batc  (None, 128, 128, 128)    512       \n",
            " hNormalization)                                                 \n",
            "                                                                 \n",
            " max_pooling2d_11 (MaxPoolin  (None, 64, 64, 128)      0         \n",
            " g2D)                                                            \n",
            "                                                                 \n",
            " conv2d_32 (Conv2D)          (None, 64, 64, 256)       295168    \n",
            "                                                                 \n",
            " conv2d_33 (Conv2D)          (None, 64, 64, 256)       590080    \n",
            "                                                                 \n",
            " conv2d_34 (Conv2D)          (None, 64, 64, 256)       590080    \n",
            "                                                                 \n",
            " batch_normalization_3 (Batc  (None, 64, 64, 256)      1024      \n",
            " hNormalization)                                                 \n",
            "                                                                 \n",
            " max_pooling2d_12 (MaxPoolin  (None, 32, 32, 256)      0         \n",
            " g2D)                                                            \n",
            "                                                                 \n",
            " conv2d_35 (Conv2D)          (None, 32, 32, 512)       1180160   \n",
            "                                                                 \n",
            " conv2d_36 (Conv2D)          (None, 32, 32, 512)       2359808   \n",
            "                                                                 \n",
            " conv2d_37 (Conv2D)          (None, 32, 32, 512)       2359808   \n",
            "                                                                 \n",
            " batch_normalization_4 (Batc  (None, 32, 32, 512)      2048      \n",
            " hNormalization)                                                 \n",
            "                                                                 \n",
            " max_pooling2d_13 (MaxPoolin  (None, 16, 16, 512)      0         \n",
            " g2D)                                                            \n",
            "                                                                 \n",
            " conv2d_38 (Conv2D)          (None, 16, 16, 512)       2359808   \n",
            "                                                                 \n",
            " conv2d_39 (Conv2D)          (None, 16, 16, 512)       2359808   \n",
            "                                                                 \n",
            " conv2d_40 (Conv2D)          (None, 16, 16, 512)       2359808   \n",
            "                                                                 \n",
            " batch_normalization_5 (Batc  (None, 16, 16, 512)      2048      \n",
            " hNormalization)                                                 \n",
            "                                                                 \n",
            " max_pooling2d_14 (MaxPoolin  (None, 8, 8, 512)        0         \n",
            " g2D)                                                            \n",
            "                                                                 \n",
            " flatten_2 (Flatten)         (None, 32768)             0         \n",
            "                                                                 \n",
            " dense_6 (Dense)             (None, 128)               4194432   \n",
            "                                                                 \n",
            " dropout (Dropout)           (None, 128)               0         \n",
            "                                                                 \n",
            " dense_7 (Dense)             (None, 64)                8256      \n",
            "                                                                 \n",
            " dropout_1 (Dropout)         (None, 64)                0         \n",
            "                                                                 \n",
            " dense_8 (Dense)             (None, 1)                 65        \n",
            "                                                                 \n",
            "=================================================================\n",
            "Total params: 18,923,329\n",
            "Trainable params: 18,920,385\n",
            "Non-trainable params: 2,944\n",
            "_________________________________________________________________\n"
          ]
        }
      ]
    },
    {
      "cell_type": "code",
      "source": [
        "model.compile(optimizer='adam',loss='binary_crossentropy',metrics=['accuracy'])"
      ],
      "metadata": {
        "id": "tVu36uk2ZvWr"
      },
      "execution_count": 28,
      "outputs": []
    },
    {
      "cell_type": "code",
      "source": [
        "history = model.fit(train_ds,epochs=10,validation_data=validation_ds)"
      ],
      "metadata": {
        "colab": {
          "base_uri": "https://localhost:8080/"
        },
        "id": "ZEvxwMEoZ1q0",
        "outputId": "c3d6cd25-fdac-4d9a-f93f-04d6b1de175b"
      },
      "execution_count": 29,
      "outputs": [
        {
          "output_type": "stream",
          "name": "stdout",
          "text": [
            "Epoch 1/10\n",
            "625/625 [==============================] - 408s 642ms/step - loss: 0.9019 - accuracy: 0.5319 - val_loss: 0.7157 - val_accuracy: 0.5122\n",
            "Epoch 2/10\n",
            "625/625 [==============================] - 403s 645ms/step - loss: 0.6859 - accuracy: 0.5442 - val_loss: 0.6929 - val_accuracy: 0.5226\n",
            "Epoch 3/10\n",
            "625/625 [==============================] - 390s 624ms/step - loss: 0.6622 - accuracy: 0.5765 - val_loss: 0.6642 - val_accuracy: 0.5744\n",
            "Epoch 4/10\n",
            "625/625 [==============================] - 404s 646ms/step - loss: 0.6309 - accuracy: 0.6216 - val_loss: 0.6682 - val_accuracy: 0.6020\n",
            "Epoch 5/10\n",
            "625/625 [==============================] - 389s 621ms/step - loss: 0.6272 - accuracy: 0.6205 - val_loss: 0.7016 - val_accuracy: 0.6094\n",
            "Epoch 6/10\n",
            "625/625 [==============================] - 389s 622ms/step - loss: 0.5832 - accuracy: 0.6736 - val_loss: 0.5615 - val_accuracy: 0.6938\n",
            "Epoch 7/10\n",
            "625/625 [==============================] - 390s 623ms/step - loss: 0.5286 - accuracy: 0.7325 - val_loss: 0.5939 - val_accuracy: 0.6768\n",
            "Epoch 8/10\n",
            "625/625 [==============================] - 391s 625ms/step - loss: 0.4411 - accuracy: 0.7894 - val_loss: 0.4789 - val_accuracy: 0.7692\n",
            "Epoch 9/10\n",
            "625/625 [==============================] - 405s 648ms/step - loss: 0.3908 - accuracy: 0.8237 - val_loss: 0.3749 - val_accuracy: 0.8396\n",
            "Epoch 10/10\n",
            "625/625 [==============================] - 392s 627ms/step - loss: 0.3337 - accuracy: 0.8527 - val_loss: 0.4781 - val_accuracy: 0.7620\n"
          ]
        }
      ]
    },
    {
      "cell_type": "code",
      "source": [
        "#without BatchNormalization() and Dropout\n",
        "import matplotlib.pyplot as plt\n",
        "plt.plot(history.history['accuracy'],color='red',label='train')\n",
        "plt.plot(history.history['val_accuracy'],color='blue',label='validation')\n",
        "plt.legend()\n",
        "plt.show()"
      ],
      "metadata": {
        "colab": {
          "base_uri": "https://localhost:8080/",
          "height": 430
        },
        "id": "SxF33l_lpGlV",
        "outputId": "68b32157-521b-4bae-fdb6-dbb4e1aed93c"
      },
      "execution_count": 24,
      "outputs": [
        {
          "output_type": "display_data",
          "data": {
            "text/plain": [
              "<Figure size 640x480 with 1 Axes>"
            ],
            "image/png": "[encoded data removed]"
          },
          "metadata": {}
        }
      ]
    },
    {
      "cell_type": "code",
      "source": [
        "#with BatchNormalization() and Dropout\n",
        "import matplotlib.pyplot as plt\n",
        "plt.plot(history.history['accuracy'],color='red',label='train')\n",
        "plt.plot(history.history['val_accuracy'],color='blue',label='validation')\n",
        "plt.legend()\n",
        "plt.show()"
      ],
      "metadata": {
        "colab": {
          "base_uri": "https://localhost:8080/",
          "height": 430
        },
        "id": "4EHAxn3o8dYe",
        "outputId": "39368a26-bf3c-445e-e7bb-ee0443038a6e"
      },
      "execution_count": 30,
      "outputs": [
        {
          "output_type": "display_data",
          "data": {
            "text/plain": [
              "<Figure size 640x480 with 1 Axes>"
            ],
            "image/png": "[encoded data removed]"
          },
          "metadata": {}
        }
      ]
    },
    {
      "cell_type": "code",
      "source": [],
      "metadata": {
        "id": "-CpEWr2golfv"
      },
      "execution_count": null,
      "outputs": []
    }
  ]
}